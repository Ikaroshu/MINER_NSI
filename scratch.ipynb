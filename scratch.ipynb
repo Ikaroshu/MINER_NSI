{
 "cells": [
  {
   "cell_type": "code",
   "execution_count": 1,
   "metadata": {
    "collapsed": true
   },
   "outputs": [],
   "source": [
    "%matplotlib inline\n",
    "%load_ext autoreload\n",
    "%autoreload 2\n",
    "from results import *\n",
    "from matplotlib.pyplot import subplots"
   ]
  },
  {
   "cell_type": "code",
   "execution_count": 12,
   "metadata": {
    "collapsed": true
   },
   "outputs": [],
   "source": [
    "def rat(er, ei, gx, ex, mx, mv):\n",
    "    qeff = ei * 54 * 0.303 / (2 * 120 * er + mv ** 2)\n",
    "    deno = 2 * sqrt(2) * gf * (2 * 120 * er + mv ** 2)\n",
    "    u = -0.5 * (0.35 ** 2) * (1 / 6 + 2 / 3) * ei ** 2\n",
    "    d = -0.5 * (0.35 ** 2) * (1 / 6 - 1 / 3) * ei ** 2\n",
    "    qbsmsm = 54 * (0.5 - 2 * ssw + 2 * u / deno + d / deno) + 76 * (-0.5 + u / deno + 2 * d / deno)\n",
    "    qsm = 54 * (0.5 - 2 * ssw) + 76 * (-0.5)\n",
    "    return (qeff ** 2) * (gx ** 2) / 4 * (ex ** 2) / (ex ** 2 - mx ** 2) / ((gf ** 2) * (qbsmsm ** 2 - qsm ** 2)) * 4 * ei ** 2 * (1 - mv ** 2 / 0.134 ** 2) ** 3 / (0.331 * (1 + erf(0.248 * (er * 1e6 - 9.22))))"
   ]
  },
  {
   "cell_type": "code",
   "execution_count": 14,
   "metadata": {},
   "outputs": [
    {
     "data": {
      "image/png": "[encoded data removed]",
      "text/plain": [
       "<matplotlib.figure.Figure at 0x11597b898>"
      ]
     },
     "metadata": {},
     "output_type": "display_data"
    }
   ],
   "source": [
    "el = logspace(log10(4.25e-6), log10(2 * ((2.9e-2 ** 2) - 1e-8) / 120))\n",
    "r = zeros_like(el)\n",
    "for i in range(50):\n",
    "    r[i] = rat(el[i], 1e-4, 1, 2.9e-2, 1e-4, 1e-3)\n",
    "fig, ax = subplots()\n",
    "ax.plot(el, r)\n",
    "ax.set_xscale('log')\n",
    "ax.set_yscale('log')"
   ]
  },
  {
   "cell_type": "code",
   "execution_count": 29,
   "metadata": {
    "collapsed": true
   },
   "outputs": [],
   "source": [
    "def rat2(er, ei, gx, ex, mx, mv):\n",
    "    qeff = ei * 54 * 0.303 / (2 * 120 * er + mv ** 2)\n",
    "    deno = 2 * sqrt(2) * gf * (2 * 120 * er + mv ** 2)\n",
    "    u = -0.5 * (0.35 ** 2) * (1 / 6 + 2 / 3) * ei ** 2\n",
    "    d = -0.5 * (0.35 ** 2) * (1 / 6 - 1 / 3) * ei ** 2\n",
    "    qbsmsm = 54 * (0.5 - 2 * ssw + 2 * u / deno + d / deno) + 76 * (-0.5 + u / deno + 2 * d / deno)\n",
    "    qsm = 54 * (0.5 - 2 * ssw) + 76 * (-0.5)\n",
    "    # print(qsm, qbsmsm)\n",
    "    return (qeff ** 2) * (gx ** 2) / 4 * (ex ** 2) / (ex ** 2 - mx ** 2) / ((gf ** 2) * (qbsmsm ** 2 - qsm ** 2)) * 4 * ei ** 2 * (1 - mv ** 2 / 0.134 ** 2) ** 3"
   ]
  },
  {
   "cell_type": "code",
   "execution_count": 30,
   "metadata": {},
   "outputs": [
    {
     "name": "stdout",
     "output_type": "stream",
     "text": [
      "-35.9696 -36.7485997327\n",
      "-35.9696 -36.7131737624\n",
      "-35.9696 -36.6793573926\n",
      "-35.9696 -36.647077618\n",
      "-35.9696 -36.6162647332\n",
      "-35.9696 -36.5868521846\n",
      "-35.9696 -36.5587764287\n",
      "-35.9696 -36.5319767967\n",
      "-35.9696 -36.5063953655\n",
      "-35.9696 -36.4819768338\n",
      "-35.9696 -36.4586684045\n",
      "-35.9696 -36.4364196715\n",
      "-35.9696 -36.4151825119\n",
      "-35.9696 -36.3949109836\n",
      "-35.9696 -36.3755612261\n",
      "-35.9696 -36.3570913674\n",
      "-35.9696 -36.3394614336\n",
      "-35.9696 -36.3226332636\n",
      "-35.9696 -36.3065704269\n",
      "-35.9696 -36.2912381456\n",
      "-35.9696 -36.2766032194\n",
      "-35.9696 -36.2626339547\n",
      "-35.9696 -36.2493000961\n",
      "-35.9696 -36.2365727613\n",
      "-35.9696 -36.2244243792\n",
      "-35.9696 -36.2128286305\n",
      "-35.9696 -36.2017603906\n",
      "-35.9696 -36.1911956762\n",
      "-35.9696 -36.1811115928\n",
      "-35.9696 -36.1714862861\n",
      "-35.9696 -36.1622988943\n",
      "-35.9696 -36.1535295033\n",
      "-35.9696 -36.1451591039\n",
      "-35.9696 -36.1371695506\n",
      "-35.9696 -36.1295435223\n",
      "-35.9696 -36.122264485\n",
      "-35.9696 -36.1153166564\n",
      "-35.9696 -36.1086849713\n",
      "-35.9696 -36.1023550492\n",
      "-35.9696 -36.0963131635\n",
      "-35.9696 -36.0905462114\n",
      "-35.9696 -36.085041686\n",
      "-35.9696 -36.0797876488\n",
      "-35.9696 -36.0747727042\n",
      "-35.9696 -36.0699859748\n",
      "-35.9696 -36.0654170778\n",
      "-35.9696 -36.0610561024\n",
      "-35.9696 -36.0568935887\n",
      "-35.9696 -36.0529205069\n",
      "-35.9696 -36.049128238\n"
     ]
    },
    {
     "data": {
      "image/png": "[encoded data removed]",
      "text/plain": [
       "<matplotlib.figure.Figure at 0x1147af4a8>"
      ]
     },
     "metadata": {},
     "output_type": "display_data"
    }
   ],
   "source": [
    "el = logspace(log10(4.25e-6), log10(2 * ((5e-2 ** 2) - 1e-8) / 120))\n",
    "r = zeros_like(el)\n",
    "for i in range(50):\n",
    "    r[i] = rat2(el[i], 6e-5, 1, 5e-2, 1e-4, 1e-3)\n",
    "fig, ax = subplots()\n",
    "ax.plot(el, r)\n",
    "ax.set_xscale('log')\n",
    "# ax.set_yscale('log')"
   ]
  },
  {
   "cell_type": "code",
   "execution_count": 46,
   "metadata": {
    "scrolled": true
   },
   "outputs": [
    {
     "name": "stdout",
     "output_type": "stream",
     "text": [
      "nui 4146.63752133\n",
      "240945.617329\n"
     ]
    }
   ],
   "source": [
    "det = Detector('csi')\n",
    "ni = 142\n",
    "nbg = binned_background(det.erMin, det.erMax, det, 4466)\n",
    "# print(nbg)\n",
    "mn = dot(det.m, det.fraction)\n",
    "# print(mn)\n",
    "def sig(mx, ei):\n",
    "    mv = 10 * mx\n",
    "    ex = 2.9*1e-2\n",
    "    a = dot(det.n+det.z, det.fraction)\n",
    "#     print(a)\n",
    "    # print(2*(ex**2 - mx**2)/mn)\n",
    "    def dsig(er):\n",
    "        deno = 2 * sqrt(2) * gf * (2 * 120 * er + mv ** 2)\n",
    "        u = -0.5 * (0.35 ** 2) * (1 / 6 + 2 / 3) * ei ** 2\n",
    "        d = -0.5 * (0.35 ** 2) * (1 / 6 - 1 / 3) * ei ** 2\n",
    "        qbsmsm = 54 * (0.5 - 2 * ssw + 2 * u / deno + d / deno) + 76 * (-0.5 + u / deno + 2 * d / deno)\n",
    "#         print(qbsmsm ** 2)\n",
    "        if er < 2*(ex**2)/(mn+2*ex):\n",
    "            return formfsquared(er * 2 * mn, a) * (1 - er / ex + 0.5 * (er / ex)**2 - mn * er / (2 * (ex ** 2))) * (qbsmsm ** 2) * (0.331 * (1 + erf(0.248 * (er * 1e6 - 9.22))))\n",
    "        else:\n",
    "            return 0.0\n",
    "    # print('test', 2*(ex**2 - mx**2))\n",
    "    # for er in linspace(det.erMin, det.erMax):\n",
    "    #     print(dsig(er))\n",
    "    return quad(dsig, det.erMin, det.erMax)[0]\n",
    "# print(sig(1e-5))\n",
    "def x2(ei, m):\n",
    "    try:\n",
    "        sigt = (gf ** 2) / pi * mn * sig(m, ei)\n",
    "    except OverflowError as oe:\n",
    "        print(ei, m)\n",
    "        raise oe\n",
    "    # print(sigt)\n",
    "    nui = sigt * 1.05 * (10 ** 11) * ((MeterByJoule * GeVPerJoule) ** 2) * 4466 * JoulePerKg * GeVPerJoule * 24 * 60 * 60\n",
    "    print('nui', nui)\n",
    "    return (3 * nui - ni) ** 2 / (ni + nbg) - 4\n",
    "print(x2(0, 1e-6))\n",
    "# ml = logspace(-5, -2)\n",
    "# # for ei in logspace(-6, -1):\n",
    "# #     print(x2(ei, 1e-5), ei)\n",
    "# el = zeros_like(ml)\n",
    "# for i in range(50):\n",
    "#     gi = 1e-4\n",
    "#     gn = gi\n",
    "#     m = ml[i]\n",
    "#     while x2(gi, m) > 0 and x2(gn, m) > 0:\n",
    "#         gi = gn\n",
    "#         gn /= 10\n",
    "#     while x2(gi, m) < 0 and x2(gn, m) < 0:\n",
    "#         gn = gi\n",
    "#         gi *= 10\n",
    "#     order = floor(log10(gn))\n",
    "#     while abs(x2(gn, m)) > 0.01:\n",
    "#         while x2(gn, m) < 0:\n",
    "#             gn += 10 ** order\n",
    "#         gn -= 10 ** order\n",
    "#         order -= 1\n",
    "#     el[i] = gn\n",
    "#     print(gn)\n",
    "# from matplotlib.pyplot import subplots\n",
    "# fig, ax = subplots()\n",
    "# ax.plot(ml*1e3, el)\n",
    "# ax.set_xscale('log')\n",
    "# ax.set_yscale('log')\n",
    "# ax.set_xlabel('$M_\\chi$')\n",
    "# ax.set_ylabel('$\\epsilon$')"
   ]
  },
  {
   "cell_type": "code",
   "execution_count": 4,
   "metadata": {
    "collapsed": true
   },
   "outputs": [],
   "source": [
    "def rp(er, mv, det, fx, g):\n",
    "    return ratesp(er, mv, det, fx, g) * 0.331 * (1 + erf(0.248 * (er * 1e6 - 9.22)))\n",
    "def rm(er, mv, det, fx, g):\n",
    "    return ratesm(er, mv, det, fx, g) * 0.331 * (1 + erf(0.248 * (er * 1e6 - 9.22)))\n",
    "def re(er, mv, det, fx, g):\n",
    "    return rates(er, mv, det, fx, g) * 0.331 * (1 + erf(0.248 * (er * 1e6 - 9.22)))\n",
    "def tp(expo, mv, det, fx, g):\n",
    "    return quad(rp, det.erMin, det.erMax, args=(mv, det, fx, g))[0] * expo * JoulePerKg * GeVPerJoule * 24 * 60 * 60 / dot(det.m, det.fraction)\n",
    "def tm(expo, mv, det, fx, g):\n",
    "    return quad(rm, det.erMin, det.erMax, args=(mv, det, fx, g))[0] * expo * JoulePerKg * GeVPerJoule * 24 * 60 * 60 / dot(det.m, det.fraction)\n",
    "def te(expo, mv, det, fx, g):\n",
    "    return quad(re, det.erMin, det.erMax, args=(mv, det, fx, g))[0] * expo * JoulePerKg * GeVPerJoule * 24 * 60 * 60 / dot(det.m, det.fraction)\n"
   ]
  },
  {
   "cell_type": "code",
   "execution_count": 47,
   "metadata": {},
   "outputs": [
    {
     "name": "stdout",
     "output_type": "stream",
     "text": [
      "23.9257175759\n",
      "83.5285667444\n",
      "55.0871153488\n"
     ]
    }
   ],
   "source": [
    "fx = Flux('sns')\n",
    "print(tp(4466, 1, det, fx, couplings()))\n",
    "print(tm(4466, 1, det, fx, couplings()))\n",
    "print(te(4466, 1, det, fx, couplings()))"
   ]
  },
  {
   "cell_type": "code",
   "execution_count": 56,
   "metadata": {},
   "outputs": [
    {
     "data": {
      "image/png": "[encoded data removed]",
      "text/plain": [
       "<matplotlib.figure.Figure at 0x114a2f278>"
      ]
     },
     "metadata": {},
     "output_type": "display_data"
    }
   ],
   "source": [
    "det = Detector('csi')\n",
    "ni = 142\n",
    "nbg = binned_background(det.erMin, det.erMax, det, 4466)\n",
    "# print(nbg)\n",
    "mn = dot(det.m, det.fraction)\n",
    "# print(mn)\n",
    "def sig(mx):\n",
    "    mv = 10 * mx\n",
    "    mx = 0\n",
    "#     print('mv', mv)\n",
    "    ex = 2.9*1e-2\n",
    "    a = dot(det.n+det.z, det.fraction)\n",
    "    # print(2*(ex**2 - mx**2)/mn)\n",
    "    def dsig(er):\n",
    "        if er < 2*(ex**2 - mx**2)/mn:\n",
    "            return formfsquared(er * 2 * mn, a) * (1 - er / ex - mn * er / (2 * (ex ** 2))) / ((er * 2 * mn + mv ** 2) ** 2) / (ex ** 2 - mx **2) * ex ** 2 * (0.331 * (1 + erf(0.248 * (er * 1e6 - 9.22))))\n",
    "        else:\n",
    "            return 0.0\n",
    "    # print('test', 2*(ex**2 - mx**2))\n",
    "    # for er in linspace(det.erMin, det.erMax):\n",
    "    #     print(dsig(er))\n",
    "    return quad(dsig, det.erMin, det.erMax)[0]\n",
    "# print(sig(1e-5))\n",
    "def x2(ei, m):\n",
    "    try:\n",
    "        sigt = (ei * 54 * 0.303) ** 2 / (8 * pi) * 2 * mn * sig(m)\n",
    "    except OverflowError as oe:\n",
    "        print(ei, m)\n",
    "        raise oe\n",
    "    # print(sigt)\n",
    "    nui = sigt * 1.05 * (10 ** 11) * ((MeterByJoule * GeVPerJoule) ** 2) * 4 * (ei ** 2) * (1-(10 * m)**2/0.134**2)**3 * 4466 * JoulePerKg * GeVPerJoule * 24 * 60 * 60\n",
    "    # print(nui)\n",
    "    return nui\n",
    "#     return (nui+20) ** 2 / (ni + nbg) - 4\n",
    "# print(x2(2e-5, 1e-2))\n",
    "ml = logspace(-5, -4)\n",
    "# for ei in logspace(-6, -1):\n",
    "#     print(x2(ei, 1e-5), ei)\n",
    "el = zeros_like(ml)\n",
    "for i in range(50):\n",
    "    el[i] = x2(ml[i], 1e-4)\n",
    "# print(el)\n",
    "fig, ax = subplots()\n",
    "ax.plot(ml, el)\n",
    "ax.set_xscale('log')"
   ]
  },
  {
   "cell_type": "code",
   "execution_count": 57,
   "metadata": {},
   "outputs": [
    {
     "data": {
      "image/png": "[encoded data removed]",
      "text/plain": [
       "<matplotlib.figure.Figure at 0x115591208>"
      ]
     },
     "metadata": {},
     "output_type": "display_data"
    }
   ],
   "source": [
    "epsity = 'bz'\n",
    "ty = 'csi'\n",
    "expo = 4466\n",
    "dar = Detector(ty)\n",
    "f = Flux('sns')\n",
    "def x2(g, mv):\n",
    "    gg = couplings()\n",
    "    if epsity == 'zz':\n",
    "        gg['uee'] = 0.5 * ((0.303 / (0.471 * 0.882)) ** 2) * (0.5 - 4 / 3 * ssw) * g ** 2\n",
    "        gg['dee'] = 0.5 * ((0.303 / (0.471 * 0.882)) ** 2) * (-0.5 + 2 / 3 * ssw) * g ** 2\n",
    "        gg['umm'] = 0.5 * ((0.303 / (0.471 * 0.882)) ** 2) * (0.5 - 4 / 3 * ssw) * g ** 2\n",
    "        gg['dmm'] = 0.5 * ((0.303 / (0.471 * 0.882)) ** 2) * (-0.5 + 2 / 3 * ssw) * g ** 2\n",
    "    elif epsity == 'bz':\n",
    "        gg['uee'] = -0.5 * (0.35 ** 2) * (1 / 6 + 2 / 3) * g ** 2\n",
    "        gg['dee'] = -0.5 * (0.35 ** 2) * (1 / 6 - 1 / 3) * g ** 2\n",
    "        gg['umm'] = -0.5 * (0.35 ** 2) * (1 / 6 + 2 / 3) * g ** 2\n",
    "        gg['dmm'] = -0.5 * (0.35 ** 2) * (1 / 6 - 1 / 3) * g ** 2\n",
    "    # print(gg)\n",
    "    nar = totoal(expo, mv, dar, f, gg)\n",
    "    # print(nar)\n",
    "    # print(g, nar)\n",
    "    # print(n)\n",
    "    nobsar = totoal(expo, mv, dar, f, couplings())\n",
    "    # print(nobsar)\n",
    "    # if ty == 'csi' and expo == 4466:\n",
    "    #     nobsar = 142\n",
    "    # nnai = totoal(expo, mv, dnai, f, gg)\n",
    "    # nobsnai = totoal(expo, mv, dnai, f, couplings())\n",
    "    bgar = binned_background(dar.erMin, dar.erMax, dar, expo)\n",
    "    # print(bgar)\n",
    "    # bgnai = binned_background(dnai.erMin, dnai.erMax, dnai, expo)\n",
    "    a = 0\n",
    "#     print(nar-142)\n",
    "    return nar-142\n",
    "ml = logspace(-5, -4)\n",
    "# for ei in logspace(-6, -1):\n",
    "#     print(x2(ei, 1e-5), ei)\n",
    "el = zeros_like(ml)\n",
    "for i in range(50):\n",
    "    el[i] = x2(ml[i], 1e-3)\n",
    "# print(el)\n",
    "fig, ax = subplots()\n",
    "ax.plot(ml, el)\n",
    "ax.set_xscale('log')"
   ]
  },
  {
   "cell_type": "code",
   "execution_count": 2,
   "metadata": {},
   "outputs": [
    {
     "data": {
      "image/png": "[encoded data removed]",
      "text/plain": [
       "<matplotlib.figure.Figure at 0x1095328d0>"
      ]
     },
     "metadata": {},
     "output_type": "display_data"
    }
   ],
   "source": [
    "fig, ax = subplots()\n",
    "m = logspace(0, 4)\n",
    "csns = load('./out/csi4lz4466.npy')\n",
    "f1sns = load('./out/1epsisns365000.npy')\n",
    "fsns = load('./out/1epsisns3650000.npy')\n",
    "ml = logspace(0, 4)\n",
    "ax.plot(ml, csns, '-', label='current CsI')\n",
    "ax.plot(ml, f1sns, '-', label='future Ar&NaI, 1 ton*year')\n",
    "ax.plot(ml, fsns, '--', label='future Ar&NaI, 10 ton*year')\n",
    "ax.legend()\n",
    "ax.set_xscale('log')\n",
    "ax.set_yscale('log')\n",
    "ax.set_xlabel(r\"$M_{Z^\\prime}\\left(\\mathrm{MeV}\\right)$\")\n",
    "ax.set_ylabel(r\"$\\epsilon$\")\n",
    "fig.tight_layout()\n",
    "fig.savefig('./out/1epsi.pdf')"
   ]
  },
  {
   "cell_type": "code",
   "execution_count": 3,
   "metadata": {},
   "outputs": [
    {
     "data": {
      "text/plain": [
       "array([  1.07600000e-07,   1.07600000e-07,   1.07600000e-07,\n",
       "         1.07700000e-07,   1.07700000e-07,   1.07800000e-07,\n",
       "         1.07900000e-07,   1.08000000e-07,   1.08300000e-07,\n",
       "         1.08700000e-07,   1.09200000e-07,   1.09900000e-07,\n",
       "         1.11000000e-07,   1.12700000e-07,   1.15000000e-07,\n",
       "         1.18400000e-07,   1.23500000e-07,   1.30800000e-07,\n",
       "         1.41500000e-07,   1.56900000e-07,   1.79400000e-07,\n",
       "         1.00500000e-06,   1.24730000e-06,   3.26800000e-07,\n",
       "         4.25000000e-07,   5.68000000e-07,   7.76000000e-07,\n",
       "         1.07900000e-06,   1.51900000e-06,   1.07560000e-05,\n",
       "         3.09400000e-06,   4.45000000e-06,   6.43000000e-06,\n",
       "         9.31000000e-06,   1.35000000e-05,   1.96200000e-05,\n",
       "         2.85300000e-05,   4.15000000e-05,   6.03800000e-05,\n",
       "         8.78000000e-05,   1.27900000e-04,   1.86200000e-04,\n",
       "         1.35100000e-03,   3.94900000e-04,   5.75000000e-04,\n",
       "         8.37000000e-04,   1.21900000e-03,   1.77600000e-03,\n",
       "         1.28860000e-02,   3.76700000e-03])"
      ]
     },
     "execution_count": 3,
     "metadata": {},
     "output_type": "execute_result"
    }
   ],
   "source": [
    "csns"
   ]
  },
  {
   "cell_type": "code",
   "execution_count": null,
   "metadata": {
    "collapsed": true
   },
   "outputs": [],
   "source": [
    "ml[21]*1e-3"
   ]
  },
  {
   "cell_type": "code",
   "execution_count": 11,
   "metadata": {
    "collapsed": true
   },
   "outputs": [],
   "source": [
    "ty = 'csi'\n",
    "expo = 4466\n",
    "epsity = 'lz'\n",
    "dar = Detector(ty)\n",
    "    # if ty == 'ar':\n",
    "    #     dar.erMin = 2 * (10 ** -6)\n",
    "    # elif ty == 'nai':\n",
    "    #     dar.erMin = 30 * (10 ** -6)\n",
    "f = Flux('sns')\n",
    "\n",
    "def x2(g, mv):\n",
    "    gg = couplings()\n",
    "    if epsity == 'zz':\n",
    "        gg['uee'] = 0.5 * ((0.303 / (0.471 * 0.882)) ** 2) * (0.5 - 4 / 3 * ssw) * g ** 2\n",
    "        gg['dee'] = 0.5 * ((0.303 / (0.471 * 0.882)) ** 2) * (-0.5 + 2 / 3 * ssw) * g ** 2\n",
    "        gg['umm'] = 0.5 * ((0.303 / (0.471 * 0.882)) ** 2) * (0.5 - 4 / 3 * ssw) * g ** 2\n",
    "        gg['dmm'] = 0.5 * ((0.303 / (0.471 * 0.882)) ** 2) * (-0.5 + 2 / 3 * ssw) * g ** 2\n",
    "    elif epsity == 'bz':\n",
    "        gg['uee'] = -0.5 * (0.35 ** 2) * (1 / 6 + 2 / 3) * g ** 2\n",
    "        gg['dee'] = -0.5 * (0.35 ** 2) * (1 / 6 - 1 / 3) * g ** 2\n",
    "        gg['umm'] = -0.5 * (0.35 ** 2) * (1 / 6 + 2 / 3) * g ** 2\n",
    "        gg['dmm'] = -0.5 * (0.35 ** 2) * (1 / 6 - 1 / 3) * g ** 2\n",
    "    elif epsity == 'lz':\n",
    "        gg['umm'] = 0.303 * sqrt(1 - ssw) * (2 / 3) * g\n",
    "        gg['dmm'] = 0.303 * sqrt(1 - ssw) * (-1 / 3) * g\n",
    "    # print(gg)\n",
    "    nar = totoal(expo, mv, dar, f, gg)\n",
    "    print('nar', nar)\n",
    "    # print(n)\n",
    "    nobsar = totoal(expo, mv, dar, f, couplings())\n",
    "    if ty == 'csi' and expo == 4466:\n",
    "        nobsar = 142\n",
    "    # nnai = totoal(expo, mv, dnai, f, gg)\n",
    "    # nobsnai = totoal(expo, mv, dnai, f, couplings())\n",
    "    bgar = binned_background(dar.erMin, dar.erMax, dar, expo)\n",
    "    # bgnai = binned_background(dnai.erMin, dnai.erMax, dnai, expo)\n",
    "    a = (2 * nar * (nobsar - nar) / (nobsar + bgar)) / (2 / 0.1 ** 2 + 2 * nar ** 2 / (nobsar + bgar))\n",
    "    return (nobsar - nar * (1 + a)) ** 2 / (nobsar + bgar) + (a / 0.1) ** 2 - 4"
   ]
  },
  {
   "cell_type": "code",
   "execution_count": 2,
   "metadata": {},
   "outputs": [
    {
     "data": {
      "text/plain": [
       "1.7320508075688774e-06"
      ]
     },
     "execution_count": 2,
     "metadata": {},
     "output_type": "execute_result"
    }
   ],
   "source": [
    "sqrt(3e-12)"
   ]
  },
  {
   "cell_type": "code",
   "execution_count": 3,
   "metadata": {},
   "outputs": [
    {
     "data": {
      "text/plain": [
       "0.05100043724481792"
      ]
     },
     "execution_count": 3,
     "metadata": {},
     "output_type": "execute_result"
    }
   ],
   "source": [
    "0.5 * ((0.303 / (0.471 * 0.882)) ** 2) * (0.5 - 4 / 3 * ssw)"
   ]
  },
  {
   "cell_type": "code",
   "execution_count": 4,
   "metadata": {},
   "outputs": [
    {
     "data": {
      "text/plain": [
       "-0.09199939792284954"
      ]
     },
     "execution_count": 4,
     "metadata": {},
     "output_type": "execute_result"
    }
   ],
   "source": [
    "0.5 * ((0.303 / (0.471 * 0.882)) ** 2) * (-0.5 + 2 / 3 * ssw)"
   ]
  },
  {
   "cell_type": "code",
   "execution_count": 5,
   "metadata": {},
   "outputs": [
    {
     "data": {
      "text/plain": [
       "0.05104166666666666"
      ]
     },
     "execution_count": 5,
     "metadata": {},
     "output_type": "execute_result"
    }
   ],
   "source": [
    "0.5 * (0.35 ** 2) * (1 / 6 + 2 / 3)"
   ]
  },
  {
   "cell_type": "code",
   "execution_count": 6,
   "metadata": {},
   "outputs": [
    {
     "data": {
      "text/plain": [
       "-0.010208333333333331"
      ]
     },
     "execution_count": 6,
     "metadata": {},
     "output_type": "execute_result"
    }
   ],
   "source": [
    "0.5 * (0.35 ** 2) * (1 / 6 - 1 / 3)"
   ]
  },
  {
   "cell_type": "code",
   "execution_count": 3,
   "metadata": {},
   "outputs": [
    {
     "data": {
      "text/plain": [
       "0.30281770035689687"
      ]
     },
     "execution_count": 3,
     "metadata": {},
     "output_type": "execute_result"
    }
   ],
   "source": [
    "sqrt(4 * pi / 137.04)"
   ]
  },
  {
   "cell_type": "code",
   "execution_count": 2,
   "metadata": {},
   "outputs": [
    {
     "data": {
      "text/plain": [
       "0.03760000000000002"
      ]
     },
     "execution_count": 2,
     "metadata": {},
     "output_type": "execute_result"
    }
   ],
   "source": [
    "0.5-2*ssw"
   ]
  },
  {
   "cell_type": "code",
   "execution_count": 3,
   "metadata": {},
   "outputs": [
    {
     "data": {
      "text/plain": [
       "0.010001476566786294"
      ]
     },
     "execution_count": 3,
     "metadata": {},
     "output_type": "execute_result"
    }
   ],
   "source": [
    "2*0.05100043724481792-0.09199939792284954"
   ]
  },
  {
   "cell_type": "code",
   "execution_count": 4,
   "metadata": {},
   "outputs": [
    {
     "data": {
      "text/plain": [
       "0.09187499999999998"
      ]
     },
     "execution_count": 4,
     "metadata": {},
     "output_type": "execute_result"
    }
   ],
   "source": [
    "2*0.05104166666666666-0.010208333333333331"
   ]
  },
  {
   "cell_type": "code",
   "execution_count": 5,
   "metadata": {},
   "outputs": [
    {
     "data": {
      "text/plain": [
       "-0.13299835860088116"
      ]
     },
     "execution_count": 5,
     "metadata": {},
     "output_type": "execute_result"
    }
   ],
   "source": [
    "0.05100043724481792-2*0.09199939792284954"
   ]
  },
  {
   "cell_type": "code",
   "execution_count": 6,
   "metadata": {},
   "outputs": [
    {
     "data": {
      "text/plain": [
       "0.030624999999999996"
      ]
     },
     "execution_count": 6,
     "metadata": {},
     "output_type": "execute_result"
    }
   ],
   "source": [
    "0.05104166666666666-2*0.010208333333333331"
   ]
  },
  {
   "cell_type": "code",
   "execution_count": null,
   "metadata": {
    "collapsed": true
   },
   "outputs": [],
   "source": []
  }
 ],
 "metadata": {
  "kernelspec": {
   "display_name": "Python 3",
   "language": "python",
   "name": "python3"
  },
  "language_info": {
   "codemirror_mode": {
    "name": "ipython",
    "version": 3
   },
   "file_extension": ".py",
   "mimetype": "text/x-python",
   "name": "python",
   "nbconvert_exporter": "python",
   "pygments_lexer": "ipython3",
   "version": "3.6.3"
  }
 },
 "nbformat": 4,
 "nbformat_minor": 1
}
